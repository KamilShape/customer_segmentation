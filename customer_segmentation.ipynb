{
  "nbformat": 4,
  "nbformat_minor": 0,
  "metadata": {
    "colab": {
      "provenance": [],
      "authorship_tag": "ABX9TyMmtHg0quJgs9C2G7lnOLdW",
      "include_colab_link": true
    },
    "kernelspec": {
      "name": "python3",
      "display_name": "Python 3"
    },
    "language_info": {
      "name": "python"
    }
  },
  "cells": [
    {
      "cell_type": "markdown",
      "metadata": {
        "id": "view-in-github",
        "colab_type": "text"
      },
      "source": [
        "<a href=\"https://colab.research.google.com/github/KamilShape/customer_segmentation/blob/main/customer_segmentation.ipynb\" target=\"_parent\"><img src=\"https://colab.research.google.com/assets/colab-badge.svg\" alt=\"Open In Colab\"/></a>"
      ]
    },
    {
      "cell_type": "markdown",
      "source": [
        "# **1. Introducion**"
      ],
      "metadata": {
        "id": "hZplOBjqbZSE"
      }
    },
    {
      "cell_type": "markdown",
      "source": [
        "### 1.1 Libraries"
      ],
      "metadata": {
        "id": "9Jvvw7pymopX"
      }
    },
    {
      "cell_type": "code",
      "source": [
        "#visualisation\n",
        "import pandas as pd\n",
        "import matplotlib.pyplot as plt\n",
        "import seaborn as sns\n",
        "import numpy as np"
      ],
      "metadata": {
        "id": "aIdtbo6BbY1s"
      },
      "execution_count": null,
      "outputs": []
    }
  ]
}